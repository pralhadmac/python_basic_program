{
  "nbformat": 4,
  "nbformat_minor": 0,
  "metadata": {
    "colab": {
      "provenance": [],
      "authorship_tag": "ABX9TyPI3DauvToZk/2RdCJjWiWf",
      "include_colab_link": true
    },
    "kernelspec": {
      "name": "python3",
      "display_name": "Python 3"
    },
    "language_info": {
      "name": "python"
    }
  },
  "cells": [
    {
      "cell_type": "markdown",
      "metadata": {
        "id": "view-in-github",
        "colab_type": "text"
      },
      "source": [
        "<a href=\"https://colab.research.google.com/github/pralhadmac/python_basic_program/blob/main/Basic_Program.ipynb\" target=\"_parent\"><img src=\"https://colab.research.google.com/assets/colab-badge.svg\" alt=\"Open In Colab\"/></a>"
      ]
    },
    {
      "cell_type": "code",
      "source": [
        "print(\"What is defrence between / and // ?\")\n",
        "a = 5 / 2\n",
        "print(f\"When we use / this then division output is showing in decimal like {a}\")\n",
        "a = 5 // 2\n",
        "print(f\"When we use // this then division output is showing in int link {a}\")"
      ],
      "metadata": {
        "colab": {
          "base_uri": "https://localhost:8080/"
        },
        "id": "syLkg5mijDoT",
        "outputId": "857fe3fe-e6f8-414d-bdcd-8f7664ec943b"
      },
      "execution_count": 11,
      "outputs": [
        {
          "output_type": "stream",
          "name": "stdout",
          "text": [
            "What is defrence between / and // ?\n",
            " When we use / this then division output is showing in decimal like 2.5\n",
            "When we use // this then division output is showing in int link 2\n"
          ]
        }
      ]
    },
    {
      "cell_type": "code",
      "source": [
        "print(\"Check string is palindrome or not\")\n",
        "string_input = input(\"Please enter the word to check palindrome or not : \")\n",
        "a = string_input.lower()\n",
        "reverse_str = \"\"\n",
        "for i in range(len(a)):\n",
        "  reverse_str = a[i] + reverse_str\n",
        "\n",
        "if a== reverse_str:\n",
        "  print(\"Is palindrome\")\n",
        "else:\n",
        "  print(\"Is not palindrome\")"
      ],
      "metadata": {
        "colab": {
          "base_uri": "https://localhost:8080/"
        },
        "id": "tr48eWbWg7nN",
        "outputId": "93b15369-7a6a-48f8-bc4e-061dd422b0b9"
      },
      "execution_count": 10,
      "outputs": [
        {
          "output_type": "stream",
          "name": "stdout",
          "text": [
            "Check string is palindrome or not\n",
            "Please enter the word to check palindrome or not : pralhad\n",
            "Is not palindrome\n"
          ]
        }
      ]
    },
    {
      "cell_type": "code",
      "execution_count": 6,
      "metadata": {
        "colab": {
          "base_uri": "https://localhost:8080/"
        },
        "id": "6_oguzA4fisk",
        "outputId": "5adb83ab-0d5a-4c0e-a030-e25a1b1cd97e"
      },
      "outputs": [
        {
          "output_type": "stream",
          "name": "stdout",
          "text": [
            "Please enter the word to reverse:Pralhad\n",
            "pralhad\n",
            "dahlarp\n"
          ]
        }
      ],
      "source": [
        "string_input = input(\"Please enter the word to reverse:\")\n",
        "a = string_input.lower()\n",
        "print(a)\n",
        "reverse_str = \"\"\n",
        "for i in range(len(a)):\n",
        "  reverse_str = a[i] + reverse_str\n",
        "\n",
        "print(reverse_str)\n"
      ]
    },
    {
      "cell_type": "code",
      "source": [
        "print(\"Welcome to experiance calculator:\")\n",
        "total_no_company = int(input(\"Please enter the no you work in companys:\"))\n",
        "total_months = 0\n",
        "for i in range(total_no_company):\n",
        "    experiance_years = int(input(f\"Please enter experiance of {i+1} Company in years:\"))\n",
        "    experiance_months = int(input(f\"Please enter experiance of {i+1} Company in months :\"))\n",
        "    total_months = total_months + (experiance_years *12) + experiance_months\n",
        "\n",
        "total_years = total_months // 12\n",
        "total_months = total_months % 12\n",
        "print(f\"Your toatal Experiance is Years:{total_years} and Months:{total_months}\")\n",
        "\n"
      ],
      "metadata": {
        "colab": {
          "base_uri": "https://localhost:8080/"
        },
        "id": "-o65ASTMfpQk",
        "outputId": "fc27b32d-51d6-4d65-f57a-c1c5c186493b"
      },
      "execution_count": null,
      "outputs": [
        {
          "output_type": "stream",
          "name": "stdout",
          "text": [
            "Welcome to experiance calculator:\n",
            "Please enter the no you work in companys:4\n",
            "Please enter experiance of 1 Company in years:1\n",
            "Please enter experiance of 1 Company in months :7\n",
            "Please enter experiance of 2 Company in years:2\n",
            "Please enter experiance of 2 Company in months :0\n",
            "Please enter experiance of 3 Company in years:2\n",
            "Please enter experiance of 3 Company in months :11\n",
            "Please enter experiance of 4 Company in years:0\n",
            "Please enter experiance of 4 Company in months :8\n",
            "86\n",
            "Your toatal Experiance is Years:7 and Months:2\n"
          ]
        }
      ]
    }
  ]
}